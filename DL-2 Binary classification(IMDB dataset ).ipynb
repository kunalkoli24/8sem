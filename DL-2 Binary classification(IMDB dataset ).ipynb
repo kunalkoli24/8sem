{
  "nbformat": 4,
  "nbformat_minor": 0,
  "metadata": {
    "colab": {
      "provenance": []
    },
    "kernelspec": {
      "name": "python3",
      "display_name": "Python 3"
    },
    "language_info": {
      "name": "python"
    }
  },
  "cells": [
    {
      "cell_type": "code",
      "execution_count": 2,
      "metadata": {
        "id": "JcJlKEHmJJqg"
      },
      "outputs": [],
      "source": [
        "import\tnumpy\tas\tnp\n",
        "from\tkeras.datasets\timport\timdb\n",
        "from\tkeras\timport\tmodels\n",
        "from\tkeras\timport\tlayers\n",
        "from\tkeras\timport\toptimizers\n",
        "from\tkeras\timport\tlosses\n",
        "from\tkeras\timport\tmetrics\n",
        "import\tmatplotlib.pyplot\tas\tplt\n",
        "%matplotlib inline"
      ]
    },
    {
      "cell_type": "code",
      "source": [
        "(train_data,\ttrain_labels),\t(test_data,\ttest_labels)\t=\timdb.load_data(num_words\t=\t10000)"
      ],
      "metadata": {
        "colab": {
          "base_uri": "https://localhost:8080/"
        },
        "id": "DfKZwt6vJUAV",
        "outputId": "c6ed2d43-f1d5-4a23-c319-9bf7263f19df"
      },
      "execution_count": 3,
      "outputs": [
        {
          "output_type": "stream",
          "name": "stdout",
          "text": [
            "Downloading data from https://storage.googleapis.com/tensorflow/tf-keras-datasets/imdb.npz\n",
            "\u001b[1m17464789/17464789\u001b[0m \u001b[32m━━━━━━━━━━━━━━━━━━━━\u001b[0m\u001b[37m\u001b[0m \u001b[1m1s\u001b[0m 0us/step\n"
          ]
        }
      ]
    },
    {
      "cell_type": "code",
      "source": [
        "train_data[:2]"
      ],
      "metadata": {
        "colab": {
          "base_uri": "https://localhost:8080/"
        },
        "id": "Ao8zO3QKJnGA",
        "outputId": "b35f4c9f-713d-47d6-e71f-3c0a8aeeb768"
      },
      "execution_count": 4,
      "outputs": [
        {
          "output_type": "execute_result",
          "data": {
            "text/plain": [
              "array([list([1, 14, 22, 16, 43, 530, 973, 1622, 1385, 65, 458, 4468, 66, 3941, 4, 173, 36, 256, 5, 25, 100, 43, 838, 112, 50, 670, 2, 9, 35, 480, 284, 5, 150, 4, 172, 112, 167, 2, 336, 385, 39, 4, 172, 4536, 1111, 17, 546, 38, 13, 447, 4, 192, 50, 16, 6, 147, 2025, 19, 14, 22, 4, 1920, 4613, 469, 4, 22, 71, 87, 12, 16, 43, 530, 38, 76, 15, 13, 1247, 4, 22, 17, 515, 17, 12, 16, 626, 18, 2, 5, 62, 386, 12, 8, 316, 8, 106, 5, 4, 2223, 5244, 16, 480, 66, 3785, 33, 4, 130, 12, 16, 38, 619, 5, 25, 124, 51, 36, 135, 48, 25, 1415, 33, 6, 22, 12, 215, 28, 77, 52, 5, 14, 407, 16, 82, 2, 8, 4, 107, 117, 5952, 15, 256, 4, 2, 7, 3766, 5, 723, 36, 71, 43, 530, 476, 26, 400, 317, 46, 7, 4, 2, 1029, 13, 104, 88, 4, 381, 15, 297, 98, 32, 2071, 56, 26, 141, 6, 194, 7486, 18, 4, 226, 22, 21, 134, 476, 26, 480, 5, 144, 30, 5535, 18, 51, 36, 28, 224, 92, 25, 104, 4, 226, 65, 16, 38, 1334, 88, 12, 16, 283, 5, 16, 4472, 113, 103, 32, 15, 16, 5345, 19, 178, 32]),\n",
              "       list([1, 194, 1153, 194, 8255, 78, 228, 5, 6, 1463, 4369, 5012, 134, 26, 4, 715, 8, 118, 1634, 14, 394, 20, 13, 119, 954, 189, 102, 5, 207, 110, 3103, 21, 14, 69, 188, 8, 30, 23, 7, 4, 249, 126, 93, 4, 114, 9, 2300, 1523, 5, 647, 4, 116, 9, 35, 8163, 4, 229, 9, 340, 1322, 4, 118, 9, 4, 130, 4901, 19, 4, 1002, 5, 89, 29, 952, 46, 37, 4, 455, 9, 45, 43, 38, 1543, 1905, 398, 4, 1649, 26, 6853, 5, 163, 11, 3215, 2, 4, 1153, 9, 194, 775, 7, 8255, 2, 349, 2637, 148, 605, 2, 8003, 15, 123, 125, 68, 2, 6853, 15, 349, 165, 4362, 98, 5, 4, 228, 9, 43, 2, 1157, 15, 299, 120, 5, 120, 174, 11, 220, 175, 136, 50, 9, 4373, 228, 8255, 5, 2, 656, 245, 2350, 5, 4, 9837, 131, 152, 491, 18, 2, 32, 7464, 1212, 14, 9, 6, 371, 78, 22, 625, 64, 1382, 9, 8, 168, 145, 23, 4, 1690, 15, 16, 4, 1355, 5, 28, 6, 52, 154, 462, 33, 89, 78, 285, 16, 145, 95])],\n",
              "      dtype=object)"
            ]
          },
          "metadata": {},
          "execution_count": 4
        }
      ]
    },
    {
      "cell_type": "code",
      "source": [
        "train_labels"
      ],
      "metadata": {
        "colab": {
          "base_uri": "https://localhost:8080/"
        },
        "id": "9-iaHHWYJrar",
        "outputId": "5eef27d3-5716-4b21-a42b-028ff34ceb23"
      },
      "execution_count": 5,
      "outputs": [
        {
          "output_type": "execute_result",
          "data": {
            "text/plain": [
              "array([1, 0, 0, ..., 0, 1, 0])"
            ]
          },
          "metadata": {},
          "execution_count": 5
        }
      ]
    },
    {
      "cell_type": "code",
      "source": [
        "train_labels[0]"
      ],
      "metadata": {
        "colab": {
          "base_uri": "https://localhost:8080/"
        },
        "id": "8oV5itWDJvbn",
        "outputId": "7402d6cb-f2c3-4ed9-9b5d-7c0f11cf236d"
      },
      "execution_count": 6,
      "outputs": [
        {
          "output_type": "execute_result",
          "data": {
            "text/plain": [
              "np.int64(1)"
            ]
          },
          "metadata": {},
          "execution_count": 6
        }
      ]
    },
    {
      "cell_type": "code",
      "source": [
        "print(type([max(sequence)\tfor\tsequence\tin\ttrain_data]))\n",
        "max([max(sequence)\tfor\tsequence\tin\ttrain_data])"
      ],
      "metadata": {
        "colab": {
          "base_uri": "https://localhost:8080/"
        },
        "id": "iI2n-pezJxKj",
        "outputId": "772449ad-b215-48a9-eb6e-846f6bafe0e8"
      },
      "execution_count": 7,
      "outputs": [
        {
          "output_type": "stream",
          "name": "stdout",
          "text": [
            "<class 'list'>\n"
          ]
        },
        {
          "output_type": "execute_result",
          "data": {
            "text/plain": [
              "9999"
            ]
          },
          "metadata": {},
          "execution_count": 7
        }
      ]
    },
    {
      "cell_type": "code",
      "source": [
        "word_index\t=\timdb.get_word_index()\n",
        "reverse_word_index\t=\tdict([(value,\tkey)\tfor\t(key,\tvalue)\tin\tword_index.items()])\n",
        "decoded_review\t=\t'\t'.join([reverse_word_index.get(i-3,\t'?')\tfor\ti\tin\ttrain_data[0]])\n",
        "decoded_review"
      ],
      "metadata": {
        "colab": {
          "base_uri": "https://localhost:8080/",
          "height": 299
        },
        "id": "0k7iLC-BJ1M_",
        "outputId": "d8c1b971-072e-4a43-a1ef-f744235f6eb7"
      },
      "execution_count": 8,
      "outputs": [
        {
          "output_type": "stream",
          "name": "stdout",
          "text": [
            "Downloading data from https://storage.googleapis.com/tensorflow/tf-keras-datasets/imdb_word_index.json\n",
            "\u001b[1m1641221/1641221\u001b[0m \u001b[32m━━━━━━━━━━━━━━━━━━━━\u001b[0m\u001b[37m\u001b[0m \u001b[1m1s\u001b[0m 0us/step\n"
          ]
        },
        {
          "output_type": "execute_result",
          "data": {
            "text/plain": [
              "\"?\\tthis\\tfilm\\twas\\tjust\\tbrilliant\\tcasting\\tlocation\\tscenery\\tstory\\tdirection\\teveryone's\\treally\\tsuited\\tthe\\tpart\\tthey\\tplayed\\tand\\tyou\\tcould\\tjust\\timagine\\tbeing\\tthere\\trobert\\t?\\tis\\tan\\tamazing\\tactor\\tand\\tnow\\tthe\\tsame\\tbeing\\tdirector\\t?\\tfather\\tcame\\tfrom\\tthe\\tsame\\tscottish\\tisland\\tas\\tmyself\\tso\\ti\\tloved\\tthe\\tfact\\tthere\\twas\\ta\\treal\\tconnection\\twith\\tthis\\tfilm\\tthe\\twitty\\tremarks\\tthroughout\\tthe\\tfilm\\twere\\tgreat\\tit\\twas\\tjust\\tbrilliant\\tso\\tmuch\\tthat\\ti\\tbought\\tthe\\tfilm\\tas\\tsoon\\tas\\tit\\twas\\treleased\\tfor\\t?\\tand\\twould\\trecommend\\tit\\tto\\teveryone\\tto\\twatch\\tand\\tthe\\tfly\\tfishing\\twas\\tamazing\\treally\\tcried\\tat\\tthe\\tend\\tit\\twas\\tso\\tsad\\tand\\tyou\\tknow\\twhat\\tthey\\tsay\\tif\\tyou\\tcry\\tat\\ta\\tfilm\\tit\\tmust\\thave\\tbeen\\tgood\\tand\\tthis\\tdefinitely\\twas\\talso\\t?\\tto\\tthe\\ttwo\\tlittle\\tboy's\\tthat\\tplayed\\tthe\\t?\\tof\\tnorman\\tand\\tpaul\\tthey\\twere\\tjust\\tbrilliant\\tchildren\\tare\\toften\\tleft\\tout\\tof\\tthe\\t?\\tlist\\ti\\tthink\\tbecause\\tthe\\tstars\\tthat\\tplay\\tthem\\tall\\tgrown\\tup\\tare\\tsuch\\ta\\tbig\\tprofile\\tfor\\tthe\\twhole\\tfilm\\tbut\\tthese\\tchildren\\tare\\tamazing\\tand\\tshould\\tbe\\tpraised\\tfor\\twhat\\tthey\\thave\\tdone\\tdon't\\tyou\\tthink\\tthe\\twhole\\tstory\\twas\\tso\\tlovely\\tbecause\\tit\\twas\\ttrue\\tand\\twas\\tsomeone's\\tlife\\tafter\\tall\\tthat\\twas\\tshared\\twith\\tus\\tall\""
            ],
            "application/vnd.google.colaboratory.intrinsic+json": {
              "type": "string"
            }
          },
          "metadata": {},
          "execution_count": 8
        }
      ]
    },
    {
      "cell_type": "code",
      "source": [
        "len(reverse_word_index)"
      ],
      "metadata": {
        "colab": {
          "base_uri": "https://localhost:8080/"
        },
        "id": "ujFKVL9hJ6K6",
        "outputId": "24d8dc77-5383-4358-87d5-08f83641ef00"
      },
      "execution_count": 9,
      "outputs": [
        {
          "output_type": "execute_result",
          "data": {
            "text/plain": [
              "88584"
            ]
          },
          "metadata": {},
          "execution_count": 9
        }
      ]
    },
    {
      "cell_type": "code",
      "source": [
        "def\tvectorize_sequences(sequences,\tdimension=10000):\n",
        " results\t=\tnp.zeros((len(sequences),\tdimension))\n",
        " for\ti,sequence\tin\tenumerate(sequences):\n",
        "  results[i,sequence]\t=\t1\n",
        " return\tresults\n",
        "X_train\t=\tvectorize_sequences(train_data)\n",
        "X_test\t=\tvectorize_sequences(test_data)"
      ],
      "metadata": {
        "id": "472_5p1qJ8Ec"
      },
      "execution_count": 10,
      "outputs": []
    },
    {
      "cell_type": "code",
      "source": [
        "X_train[0]"
      ],
      "metadata": {
        "colab": {
          "base_uri": "https://localhost:8080/"
        },
        "id": "btv52umjKGP-",
        "outputId": "50a30996-ddb6-4198-f46a-5fa2b66268c9"
      },
      "execution_count": 11,
      "outputs": [
        {
          "output_type": "execute_result",
          "data": {
            "text/plain": [
              "array([0., 1., 1., ..., 0., 0., 0.])"
            ]
          },
          "metadata": {},
          "execution_count": 11
        }
      ]
    },
    {
      "cell_type": "code",
      "source": [
        "X_train.shape"
      ],
      "metadata": {
        "colab": {
          "base_uri": "https://localhost:8080/"
        },
        "id": "v3G516xZKIxi",
        "outputId": "12864ef2-b047-4bb3-b133-fafe508f670d"
      },
      "execution_count": 12,
      "outputs": [
        {
          "output_type": "execute_result",
          "data": {
            "text/plain": [
              "(25000, 10000)"
            ]
          },
          "metadata": {},
          "execution_count": 12
        }
      ]
    },
    {
      "cell_type": "code",
      "source": [
        "y_train\t=\tnp.asarray(train_labels).astype('float32')\n",
        "y_test=\tnp.asarray(test_labels).astype('float32')"
      ],
      "metadata": {
        "id": "b-tFAKntKNp8"
      },
      "execution_count": 13,
      "outputs": []
    },
    {
      "cell_type": "code",
      "source": [
        "model\t=\tmodels.Sequential()\n",
        "model.add(layers.Dense(16,\tactivation='relu',\tinput_shape=(10000,)))\n",
        "model.add(layers.Dense(16,\tactivation='relu'))\n",
        "model.add(layers.Dense(1,\tactivation='sigmoid'))"
      ],
      "metadata": {
        "colab": {
          "base_uri": "https://localhost:8080/"
        },
        "id": "ybvwX9J2KW9z",
        "outputId": "16124078-b8bf-4e16-b266-6dddba590e87"
      },
      "execution_count": 14,
      "outputs": [
        {
          "output_type": "stream",
          "name": "stderr",
          "text": [
            "/usr/local/lib/python3.11/dist-packages/keras/src/layers/core/dense.py:87: UserWarning: Do not pass an `input_shape`/`input_dim` argument to a layer. When using Sequential models, prefer using an `Input(shape)` object as the first layer in the model instead.\n",
            "  super().__init__(activity_regularizer=activity_regularizer, **kwargs)\n"
          ]
        }
      ]
    },
    {
      "cell_type": "code",
      "source": [
        "model.compile(\n",
        " optimizer=optimizers.RMSprop(learning_rate=0.001),\n",
        " loss\t=\tlosses.binary_crossentropy,\n",
        " metrics\t=\t[metrics.binary_accuracy]\n",
        ")"
      ],
      "metadata": {
        "id": "k5zqTLxYKbhz"
      },
      "execution_count": 15,
      "outputs": []
    },
    {
      "cell_type": "code",
      "source": [
        "X_val\t=\tX_train[:10000]\n",
        "partial_X_train\t=\tX_train[10000:]\n",
        "y_val\t=\ty_train[:10000]\n",
        "partial_y_train\t=\ty_train[10000:]"
      ],
      "metadata": {
        "id": "z-3Z4hduKgAM"
      },
      "execution_count": 16,
      "outputs": []
    },
    {
      "cell_type": "code",
      "source": [
        "history\t=\tmodel.fit(\n",
        " partial_X_train,\n",
        " partial_y_train,\n",
        " epochs=20,\n",
        " batch_size=512,\n",
        " validation_data=(X_val,\ty_val)\n",
        ")"
      ],
      "metadata": {
        "colab": {
          "base_uri": "https://localhost:8080/"
        },
        "id": "u685uO3XKi5N",
        "outputId": "09ce1add-78f7-4919-ae52-209bc782f063"
      },
      "execution_count": 17,
      "outputs": [
        {
          "output_type": "stream",
          "name": "stdout",
          "text": [
            "Epoch 1/20\n",
            "\u001b[1m30/30\u001b[0m \u001b[32m━━━━━━━━━━━━━━━━━━━━\u001b[0m\u001b[37m\u001b[0m \u001b[1m3s\u001b[0m 65ms/step - binary_accuracy: 0.6949 - loss: 0.6014 - val_binary_accuracy: 0.8661 - val_loss: 0.3985\n",
            "Epoch 2/20\n",
            "\u001b[1m30/30\u001b[0m \u001b[32m━━━━━━━━━━━━━━━━━━━━\u001b[0m\u001b[37m\u001b[0m \u001b[1m1s\u001b[0m 34ms/step - binary_accuracy: 0.8958 - loss: 0.3383 - val_binary_accuracy: 0.8827 - val_loss: 0.3172\n",
            "Epoch 3/20\n",
            "\u001b[1m30/30\u001b[0m \u001b[32m━━━━━━━━━━━━━━━━━━━━\u001b[0m\u001b[37m\u001b[0m \u001b[1m1s\u001b[0m 35ms/step - binary_accuracy: 0.9234 - loss: 0.2416 - val_binary_accuracy: 0.8892 - val_loss: 0.2881\n",
            "Epoch 4/20\n",
            "\u001b[1m30/30\u001b[0m \u001b[32m━━━━━━━━━━━━━━━━━━━━\u001b[0m\u001b[37m\u001b[0m \u001b[1m1s\u001b[0m 35ms/step - binary_accuracy: 0.9352 - loss: 0.1991 - val_binary_accuracy: 0.8876 - val_loss: 0.2755\n",
            "Epoch 5/20\n",
            "\u001b[1m30/30\u001b[0m \u001b[32m━━━━━━━━━━━━━━━━━━━━\u001b[0m\u001b[37m\u001b[0m \u001b[1m1s\u001b[0m 34ms/step - binary_accuracy: 0.9529 - loss: 0.1605 - val_binary_accuracy: 0.8856 - val_loss: 0.2774\n",
            "Epoch 6/20\n",
            "\u001b[1m30/30\u001b[0m \u001b[32m━━━━━━━━━━━━━━━━━━━━\u001b[0m\u001b[37m\u001b[0m \u001b[1m1s\u001b[0m 33ms/step - binary_accuracy: 0.9621 - loss: 0.1357 - val_binary_accuracy: 0.8722 - val_loss: 0.3258\n",
            "Epoch 7/20\n",
            "\u001b[1m30/30\u001b[0m \u001b[32m━━━━━━━━━━━━━━━━━━━━\u001b[0m\u001b[37m\u001b[0m \u001b[1m1s\u001b[0m 45ms/step - binary_accuracy: 0.9598 - loss: 0.1290 - val_binary_accuracy: 0.8742 - val_loss: 0.3303\n",
            "Epoch 8/20\n",
            "\u001b[1m30/30\u001b[0m \u001b[32m━━━━━━━━━━━━━━━━━━━━\u001b[0m\u001b[37m\u001b[0m \u001b[1m2s\u001b[0m 53ms/step - binary_accuracy: 0.9703 - loss: 0.1018 - val_binary_accuracy: 0.8757 - val_loss: 0.3308\n",
            "Epoch 9/20\n",
            "\u001b[1m30/30\u001b[0m \u001b[32m━━━━━━━━━━━━━━━━━━━━\u001b[0m\u001b[37m\u001b[0m \u001b[1m2s\u001b[0m 33ms/step - binary_accuracy: 0.9797 - loss: 0.0832 - val_binary_accuracy: 0.8789 - val_loss: 0.3280\n",
            "Epoch 10/20\n",
            "\u001b[1m30/30\u001b[0m \u001b[32m━━━━━━━━━━━━━━━━━━━━\u001b[0m\u001b[37m\u001b[0m \u001b[1m1s\u001b[0m 34ms/step - binary_accuracy: 0.9822 - loss: 0.0709 - val_binary_accuracy: 0.8799 - val_loss: 0.3430\n",
            "Epoch 11/20\n",
            "\u001b[1m30/30\u001b[0m \u001b[32m━━━━━━━━━━━━━━━━━━━━\u001b[0m\u001b[37m\u001b[0m \u001b[1m1s\u001b[0m 34ms/step - binary_accuracy: 0.9855 - loss: 0.0609 - val_binary_accuracy: 0.8748 - val_loss: 0.3677\n",
            "Epoch 12/20\n",
            "\u001b[1m30/30\u001b[0m \u001b[32m━━━━━━━━━━━━━━━━━━━━\u001b[0m\u001b[37m\u001b[0m \u001b[1m1s\u001b[0m 33ms/step - binary_accuracy: 0.9871 - loss: 0.0537 - val_binary_accuracy: 0.8794 - val_loss: 0.3815\n",
            "Epoch 13/20\n",
            "\u001b[1m30/30\u001b[0m \u001b[32m━━━━━━━━━━━━━━━━━━━━\u001b[0m\u001b[37m\u001b[0m \u001b[1m1s\u001b[0m 34ms/step - binary_accuracy: 0.9917 - loss: 0.0445 - val_binary_accuracy: 0.8757 - val_loss: 0.4073\n",
            "Epoch 14/20\n",
            "\u001b[1m30/30\u001b[0m \u001b[32m━━━━━━━━━━━━━━━━━━━━\u001b[0m\u001b[37m\u001b[0m \u001b[1m1s\u001b[0m 35ms/step - binary_accuracy: 0.9933 - loss: 0.0381 - val_binary_accuracy: 0.8769 - val_loss: 0.4208\n",
            "Epoch 15/20\n",
            "\u001b[1m30/30\u001b[0m \u001b[32m━━━━━━━━━━━━━━━━━━━━\u001b[0m\u001b[37m\u001b[0m \u001b[1m1s\u001b[0m 33ms/step - binary_accuracy: 0.9949 - loss: 0.0299 - val_binary_accuracy: 0.8711 - val_loss: 0.4465\n",
            "Epoch 16/20\n",
            "\u001b[1m30/30\u001b[0m \u001b[32m━━━━━━━━━━━━━━━━━━━━\u001b[0m\u001b[37m\u001b[0m \u001b[1m1s\u001b[0m 33ms/step - binary_accuracy: 0.9958 - loss: 0.0269 - val_binary_accuracy: 0.8671 - val_loss: 0.4713\n",
            "Epoch 17/20\n",
            "\u001b[1m30/30\u001b[0m \u001b[32m━━━━━━━━━━━━━━━━━━━━\u001b[0m\u001b[37m\u001b[0m \u001b[1m2s\u001b[0m 58ms/step - binary_accuracy: 0.9970 - loss: 0.0236 - val_binary_accuracy: 0.8724 - val_loss: 0.4832\n",
            "Epoch 18/20\n",
            "\u001b[1m30/30\u001b[0m \u001b[32m━━━━━━━━━━━━━━━━━━━━\u001b[0m\u001b[37m\u001b[0m \u001b[1m2s\u001b[0m 35ms/step - binary_accuracy: 0.9977 - loss: 0.0194 - val_binary_accuracy: 0.8723 - val_loss: 0.5073\n",
            "Epoch 19/20\n",
            "\u001b[1m30/30\u001b[0m \u001b[32m━━━━━━━━━━━━━━━━━━━━\u001b[0m\u001b[37m\u001b[0m \u001b[1m1s\u001b[0m 35ms/step - binary_accuracy: 0.9976 - loss: 0.0181 - val_binary_accuracy: 0.8715 - val_loss: 0.5292\n",
            "Epoch 20/20\n",
            "\u001b[1m30/30\u001b[0m \u001b[32m━━━━━━━━━━━━━━━━━━━━\u001b[0m\u001b[37m\u001b[0m \u001b[1m1s\u001b[0m 34ms/step - binary_accuracy: 0.9996 - loss: 0.0124 - val_binary_accuracy: 0.8695 - val_loss: 0.5476\n"
          ]
        }
      ]
    },
    {
      "cell_type": "code",
      "source": [
        "history_dict\t=\thistory.history\n",
        "history_dict.keys()"
      ],
      "metadata": {
        "colab": {
          "base_uri": "https://localhost:8080/"
        },
        "id": "8llEfQrhKmm_",
        "outputId": "e40e254e-1142-4755-95bc-32be60629e30"
      },
      "execution_count": 18,
      "outputs": [
        {
          "output_type": "execute_result",
          "data": {
            "text/plain": [
              "dict_keys(['binary_accuracy', 'loss', 'val_binary_accuracy', 'val_loss'])"
            ]
          },
          "metadata": {},
          "execution_count": 18
        }
      ]
    },
    {
      "cell_type": "code",
      "source": [
        "loss_values\t=\thistory_dict['loss']\n",
        "val_loss_values\t=\thistory_dict['val_loss']\n",
        "epochs\t=\trange(1,\tlen(loss_values)\t+\t1)\n",
        "plt.plot(epochs,\tloss_values,\t'g',\tlabel=\"Training\tLoss\")\n",
        "plt.plot(epochs,\tval_loss_values,\t'b',\tlabel=\"Validation\tLoss\")\n",
        "plt.title('Training\tand\tValidation\tLoss')\n",
        "plt.xlabel('Epochs')\n",
        "plt.ylabel('Loss\tValue')\n",
        "plt.legend()\n",
        "plt.show()\n"
      ],
      "metadata": {
        "colab": {
          "base_uri": "https://localhost:8080/",
          "height": 527
        },
        "id": "XCCPBh35Kw0C",
        "outputId": "5f0c715c-7e50-4b0b-8028-08be74891869"
      },
      "execution_count": 20,
      "outputs": [
        {
          "output_type": "stream",
          "name": "stderr",
          "text": [
            "/usr/local/lib/python3.11/dist-packages/IPython/core/pylabtools.py:151: UserWarning: Glyph 9 (\t) missing from font(s) DejaVu Sans.\n",
            "  fig.canvas.print_figure(bytes_io, **kw)\n"
          ]
        },
        {
          "output_type": "display_data",
          "data": {
            "text/plain": [
              "<Figure size 640x480 with 1 Axes>"
            ],
            "image/png": "[encoded data removed]"
          },
          "metadata": {}
        }
      ]
    },
    {
      "cell_type": "code",
      "source": [
        "acc_values\t=\thistory_dict['binary_accuracy']\n",
        "val_acc_values\t=\thistory_dict['val_binary_accuracy']\n",
        "epochs\t=\trange(1,\tlen(loss_values)\t+\t1)\n",
        "plt.plot(epochs,\tacc_values,\t'g',\tlabel=\"Training\tAccuracy\")\n",
        "plt.plot(epochs,\tval_acc_values,\t'b',\tlabel=\"Validation\tAccuracy\")\n",
        "plt.title('Training\tand\tValidation\tAccuraccy')\n",
        "plt.xlabel('Epochs')\n",
        "plt.ylabel('Accuracy')\n",
        "plt.legend()\n",
        "plt.show()"
      ],
      "metadata": {
        "colab": {
          "base_uri": "https://localhost:8080/",
          "height": 472
        },
        "id": "JveWcANuK2ae",
        "outputId": "9f0d91c0-78fa-40dd-9832-a23ca2567c90"
      },
      "execution_count": 21,
      "outputs": [
        {
          "output_type": "display_data",
          "data": {
            "text/plain": [
              "<Figure size 640x480 with 1 Axes>"
            ],
            "image/png": "[encoded data removed]"
          },
          "metadata": {}
        }
      ]
    },
    {
      "cell_type": "code",
      "source": [
        "model.fit(\n",
        "partial_X_train,\n",
        "partial_y_train,\n",
        "epochs=3,\n",
        "batch_size=512,\n",
        "validation_data=(X_val,\ty_val)\n",
        ")"
      ],
      "metadata": {
        "colab": {
          "base_uri": "https://localhost:8080/"
        },
        "id": "ibiiIkkBLBqM",
        "outputId": "21cb5a13-6c65-443b-e718-232378b64e27"
      },
      "execution_count": 22,
      "outputs": [
        {
          "output_type": "stream",
          "name": "stdout",
          "text": [
            "Epoch 1/3\n",
            "\u001b[1m30/30\u001b[0m \u001b[32m━━━━━━━━━━━━━━━━━━━━\u001b[0m\u001b[37m\u001b[0m \u001b[1m2s\u001b[0m 76ms/step - binary_accuracy: 0.9996 - loss: 0.0106 - val_binary_accuracy: 0.8630 - val_loss: 0.5902\n",
            "Epoch 2/3\n",
            "\u001b[1m30/30\u001b[0m \u001b[32m━━━━━━━━━━━━━━━━━━━━\u001b[0m\u001b[37m\u001b[0m \u001b[1m2s\u001b[0m 55ms/step - binary_accuracy: 0.9998 - loss: 0.0085 - val_binary_accuracy: 0.8710 - val_loss: 0.5988\n",
            "Epoch 3/3\n",
            "\u001b[1m30/30\u001b[0m \u001b[32m━━━━━━━━━━━━━━━━━━━━\u001b[0m\u001b[37m\u001b[0m \u001b[1m2s\u001b[0m 51ms/step - binary_accuracy: 0.9978 - loss: 0.0119 - val_binary_accuracy: 0.8698 - val_loss: 0.6151\n"
          ]
        },
        {
          "output_type": "execute_result",
          "data": {
            "text/plain": [
              "<keras.src.callbacks.history.History at 0x787c06ebf290>"
            ]
          },
          "metadata": {},
          "execution_count": 22
        }
      ]
    },
    {
      "cell_type": "code",
      "source": [
        "np.set_printoptions(suppress=True)\n",
        "result\t=\tmodel.predict(X_test)"
      ],
      "metadata": {
        "colab": {
          "base_uri": "https://localhost:8080/"
        },
        "id": "wmrAf0LWLIJ7",
        "outputId": "db9a7ac3-3847-45a1-89ff-bb2277865703"
      },
      "execution_count": 23,
      "outputs": [
        {
          "output_type": "stream",
          "name": "stdout",
          "text": [
            "\u001b[1m782/782\u001b[0m \u001b[32m━━━━━━━━━━━━━━━━━━━━\u001b[0m\u001b[37m\u001b[0m \u001b[1m2s\u001b[0m 2ms/step\n"
          ]
        }
      ]
    },
    {
      "cell_type": "code",
      "source": [
        "result"
      ],
      "metadata": {
        "colab": {
          "base_uri": "https://localhost:8080/"
        },
        "id": "lRkr77cCLNgT",
        "outputId": "df7a7550-85fe-4e91-e9be-aaab77b2505a"
      },
      "execution_count": 24,
      "outputs": [
        {
          "output_type": "execute_result",
          "data": {
            "text/plain": [
              "array([[0.00843392],\n",
              "       [1.        ],\n",
              "       [0.95366067],\n",
              "       ...,\n",
              "       [0.00151669],\n",
              "       [0.00682675],\n",
              "       [0.95469785]], dtype=float32)"
            ]
          },
          "metadata": {},
          "execution_count": 24
        }
      ]
    },
    {
      "cell_type": "code",
      "source": [
        "y_pred\t=\tnp.zeros(len(result))\n",
        "for\ti,\tscore\tin\tenumerate(result):\n",
        "\t\ty_pred[i]\t=\tnp.round(score)\n",
        "mae\t=\tmetrics.mean_absolute_error(y_pred,\ty_test)\n",
        "mae"
      ],
      "metadata": {
        "colab": {
          "base_uri": "https://localhost:8080/"
        },
        "id": "Z7G7eh1TLRDo",
        "outputId": "f18415a1-4453-4b96-ca86-0cd6e07e982e"
      },
      "execution_count": 29,
      "outputs": [
        {
          "output_type": "stream",
          "name": "stderr",
          "text": [
            "<ipython-input-29-332ef9af419a>:3: DeprecationWarning: Conversion of an array with ndim > 0 to a scalar is deprecated, and will error in future. Ensure you extract a single element from your array before performing this operation. (Deprecated NumPy 1.25.)\n",
            "  y_pred[i]\t=\tnp.round(score)\n"
          ]
        },
        {
          "output_type": "execute_result",
          "data": {
            "text/plain": [
              "<tf.Tensor: shape=(), dtype=float32, numpy=0.14232000708580017>"
            ]
          },
          "metadata": {},
          "execution_count": 29
        }
      ]
    },
    {
      "cell_type": "code",
      "source": [],
      "metadata": {
        "id": "GOlTkq7ALgWl"
      },
      "execution_count": null,
      "outputs": []
    }
  ]
}